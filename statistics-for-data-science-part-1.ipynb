{
 "cells": [
  {
   "cell_type": "markdown",
   "id": "occasional-crystal",
   "metadata": {
    "_cell_guid": "b1076dfc-b9ad-4769-8c92-a6c4dae69d19",
    "_uuid": "8f2839f25d086af736a60e9eeb907d3b93b6e0e5",
    "papermill": {
     "duration": 0.030233,
     "end_time": "2021-04-25T09:56:51.164110",
     "exception": false,
     "start_time": "2021-04-25T09:56:51.133877",
     "status": "completed"
    },
    "tags": []
   },
   "source": [
    "## IN THIS NOTEBOOK I'LL BE SHARING ALL CORE CONCEPTS OF STATISTICS REQUIRED TO KNOW AS A DATA SCIENTIST."
   ]
  },
  {
   "cell_type": "markdown",
   "id": "outside-arbitration",
   "metadata": {
    "papermill": {
     "duration": 0.024348,
     "end_time": "2021-04-25T09:56:51.214002",
     "exception": false,
     "start_time": "2021-04-25T09:56:51.189654",
     "status": "completed"
    },
    "tags": []
   },
   "source": [
    "---------------------------------------------------------------------------------------------------------"
   ]
  },
  {
   "cell_type": "markdown",
   "id": "painted-layer",
   "metadata": {
    "papermill": {
     "duration": 0.024235,
     "end_time": "2021-04-25T09:56:51.263004",
     "exception": false,
     "start_time": "2021-04-25T09:56:51.238769",
     "status": "completed"
    },
    "tags": []
   },
   "source": [
    "![](https://www.statisticshowto.com/wp-content/uploads/2013/10/cropped-banner-21.jpg)"
   ]
  },
  {
   "cell_type": "markdown",
   "id": "challenging-completion",
   "metadata": {
    "papermill": {
     "duration": 0.024535,
     "end_time": "2021-04-25T09:56:51.312076",
     "exception": false,
     "start_time": "2021-04-25T09:56:51.287541",
     "status": "completed"
    },
    "tags": []
   },
   "source": [
    "# WHAT IS STATISTICS ?:\n",
    "\n",
    "1. It is the science of conducting studies to collect, organize, summarize, analyze, and draw a conclusion out of data.\n",
    "2. It deals with collective informative data, interpreting those data, and drawing a conclusion from that data.\n",
    "3. It is used in many disciplines like marketing, business, healthcare, telecom, etc."
   ]
  },
  {
   "cell_type": "markdown",
   "id": "reliable-stockholm",
   "metadata": {
    "papermill": {
     "duration": 0.024461,
     "end_time": "2021-04-25T09:56:51.361206",
     "exception": false,
     "start_time": "2021-04-25T09:56:51.336745",
     "status": "completed"
    },
    "tags": []
   },
   "source": [
    "----------------------------------------------------------------------------------------------------------"
   ]
  },
  {
   "cell_type": "markdown",
   "id": "regulated-addition",
   "metadata": {
    "papermill": {
     "duration": 0.024451,
     "end_time": "2021-04-25T09:56:51.410323",
     "exception": false,
     "start_time": "2021-04-25T09:56:51.385872",
     "status": "completed"
    },
    "tags": []
   },
   "source": [
    "### BASIC STATS TERMINOLOGIES:\n",
    "\n",
    "* Population: A collection, or set, of individuals or objects or events whose properties are to be analyzed ( Raw data that we get from the client).\n",
    "* Sample: A subset of the population. It should be representative of the population.\n",
    "* Variable: A characteristic of each element of a population or sample.\n",
    "* Data (singular): The value of the variable associated with one element of a population or sample. This value may be a number, a word, or a symbol.\n",
    "* Data (plural): The set of values collected for the variable from each of the elements belonging to the sample.\n",
    "* Experiment: A planned activity whose results yield a collection of data.\n",
    "* Parameter: A numerical value summarizing all the data of an entire population (Mean, Median, Mode).\n",
    "* Statistic: A numerical value summarizing the sample data."
   ]
  },
  {
   "cell_type": "markdown",
   "id": "digital-johnston",
   "metadata": {
    "papermill": {
     "duration": 0.024212,
     "end_time": "2021-04-25T09:56:51.459449",
     "exception": false,
     "start_time": "2021-04-25T09:56:51.435237",
     "status": "completed"
    },
    "tags": []
   },
   "source": [
    "----------------------------------------------------------------------"
   ]
  },
  {
   "cell_type": "markdown",
   "id": "outdoor-excellence",
   "metadata": {
    "papermill": {
     "duration": 0.024208,
     "end_time": "2021-04-25T09:56:51.508285",
     "exception": false,
     "start_time": "2021-04-25T09:56:51.484077",
     "status": "completed"
    },
    "tags": []
   },
   "source": [
    "# TABLE OF CONTENTS:\n",
    "\n",
    "#### 1. Descriptive Statistics\n",
    "#### 2. Sample, Population Statistics\n",
    "#### 3. Random Variables\n",
    "#### 4. PDF, Binomial Distribution, Normal Distribution\n",
    "#### 5. Z-SCORE\n",
    "#### 6. Central Limit Theorem."
   ]
  },
  {
   "cell_type": "markdown",
   "id": "elect-summary",
   "metadata": {
    "papermill": {
     "duration": 0.025453,
     "end_time": "2021-04-25T09:56:51.558263",
     "exception": false,
     "start_time": "2021-04-25T09:56:51.532810",
     "status": "completed"
    },
    "tags": []
   },
   "source": [
    "----------------------------------------------------------------------------------------------------------"
   ]
  },
  {
   "cell_type": "markdown",
   "id": "welcome-wheat",
   "metadata": {
    "papermill": {
     "duration": 0.024498,
     "end_time": "2021-04-25T09:56:51.607598",
     "exception": false,
     "start_time": "2021-04-25T09:56:51.583100",
     "status": "completed"
    },
    "tags": []
   },
   "source": [
    "## **1. DESCRIPTIVE STATISTICS**"
   ]
  },
  {
   "cell_type": "markdown",
   "id": "piano-biotechnology",
   "metadata": {
    "papermill": {
     "duration": 0.024299,
     "end_time": "2021-04-25T09:56:51.656806",
     "exception": false,
     "start_time": "2021-04-25T09:56:51.632507",
     "status": "completed"
    },
    "tags": []
   },
   "source": [
    "* It helps us to organize and summarize data using numbers and graphs to look for a pattern in the data set.\n",
    "* Measures of Central tendency: Mean, Median, Mode.\n",
    "* The measure of Variability: Standard Deviation, Variance & Range"
   ]
  },
  {
   "cell_type": "markdown",
   "id": "external-crisis",
   "metadata": {
    "papermill": {
     "duration": 0.024427,
     "end_time": "2021-04-25T09:56:51.705994",
     "exception": false,
     "start_time": "2021-04-25T09:56:51.681567",
     "status": "completed"
    },
    "tags": []
   },
   "source": [
    "### TYPES OF DATA IN DESCRIPTIVE DATA:\n",
    "\n",
    "#### 1. CATEGORICAL\n",
    "\n",
    "* Categorical variables represent types of data which may be divided into groups. \n",
    "* Examples of categorical variables are race, sex, age group, and educational level.\n",
    "\n",
    "#### 2. NUMERICAL\n",
    "\n",
    "* Numerical data is a data type expressed in numbers, rather than natural language description. \n",
    "* It is divided into two groups: **Discrete and Continuous.**\n",
    "\n",
    "* Discrete data is information that can only take certain values. These values don’t have to be whole numbers (a child might have a shoe size of 3.5 or a company may make a profit of £3456.25 for example) but they are fixed values – a child cannot have a shoe size of 3.72!\n",
    "\n",
    "* Continuous data is data that can take any value. Height, weight, temperature and length are all examples of continuous data. Some continuous data will change over time; the weight of a baby in its first year or the temperature in a room throughout the day. This data is best shown on a line graph as this type of graph can show how the data changes over a given period of time. Other continuous data, such as the heights of a group of children on one particular day, is often grouped into categories to make it easier to interpret.\n"
   ]
  },
  {
   "cell_type": "markdown",
   "id": "acoustic-corps",
   "metadata": {
    "papermill": {
     "duration": 0.024469,
     "end_time": "2021-04-25T09:56:51.755128",
     "exception": false,
     "start_time": "2021-04-25T09:56:51.730659",
     "status": "completed"
    },
    "tags": []
   },
   "source": [
    "## LEVELS OF MEASUREMENT\n",
    "\n",
    "### 1. QUALITATIVE:\n",
    "* Qualitative data are measures of 'types' and may be represented by a name, symbol, or a number code.\n",
    "* Qualitative data are data about categorical variables (e.g. what type).\n",
    "\n",
    "##### NOMINAL DATA:\n",
    "* Nominal Scale, also called the categorical variable scale, is defined as a scale used for labeling variables into distinct classifications and doesn’t involve a quantitative value or order.  \n",
    "* EXAMPLES: Four Seasons - winter, spring, summer, autumn.\n",
    "\n",
    "##### ORDINAL DATA:\n",
    "* Ordinal Scale is defined as a variable measurement scale used to simply depict the order of variables and not the difference between each of the variables.\n",
    "* EXAMPLE: How satisfied are you with our services? [ Very Unsatisfied – 1, Unsatisfied – 2, Neutral – 3, Satisfied – 4, Very Satisfied – 5]\n",
    "\n",
    "\n",
    "### 2. QUANTITATIVE:\n",
    "* Quantitative data are measures of values or counts and are expressed as numbers.\n",
    "* Quantitative data are data about numeric variables (e.g. how many; how much; or how often).\n",
    "\n",
    "##### INTERVAL SCALE:\n",
    "* Interval Scale is defined as a numerical scale where the order of the variables is known as well as the difference between these variables. Variables that have familiar, constant, and computable differences are classified using the Interval scale.\n",
    "* EXAMPLE: Calendar years and time, Temperature Scale.\n",
    "\n",
    "##### RATIO SCALE:\n",
    "* Ratio Scale is defined as a variable measurement scale that not only produces the order of variables but also makes the difference between variables known along with information on the value of true zero.\n",
    "* EXAMPLE: What is your weight in kilograms? [Less than 50 kilograms, 51- 70 kilograms, 71- 90 kilograms, 91-110 kilograms, More than 110 kilograms]\n",
    "\n",
    "### WHY ARE QUANTITATIVE AND QUALITATIVE DATA IMPORTANT ?\n",
    "\n",
    "* Quantitative and qualitative data provide different outcomes, and are often used together to get a full picture of a population. For example, if data are collected on annual income (quantitative), occupation data (qualitative) could also be gathered to get more detail on the average annual income for each type of occupation."
   ]
  },
  {
   "cell_type": "markdown",
   "id": "renewable-extent",
   "metadata": {
    "papermill": {
     "duration": 0.02453,
     "end_time": "2021-04-25T09:56:51.804294",
     "exception": false,
     "start_time": "2021-04-25T09:56:51.779764",
     "status": "completed"
    },
    "tags": []
   },
   "source": [
    "## **MEASURE OF CENTRAL TENDENCY**\n",
    "Measure of central tendency is a single value that attempts to describe a set of data by identifying the central position within that set of data.\n",
    "\n",
    "#### MEAN:\n",
    "* The mean (or average) is the most popular and well known measure of central tendency. It can be used with both discrete and continuous data, although its use is most often with continuous data.\n",
    "* The mean is equal to the sum of all the values in the data set divided by the number of values in the data set.\n",
    "\n",
    "#### MODE & MEDIAN:\n",
    "* The median for the sample data arranged in increasing order is defined as : \n",
    "        If\"n\" is an odd number -  Middle value. \n",
    "        If \"n\" is an even number - Midway between the two middle values\n",
    "* The mode is the most commonly occurring value.\n",
    "* Mode exists as a data point.\n",
    "* Useful for qualitative data.\n"
   ]
  },
  {
   "cell_type": "markdown",
   "id": "objective-scholarship",
   "metadata": {
    "papermill": {
     "duration": 0.02453,
     "end_time": "2021-04-25T09:56:51.853677",
     "exception": false,
     "start_time": "2021-04-25T09:56:51.829147",
     "status": "completed"
    },
    "tags": []
   },
   "source": [
    "#### **PYTHON CODE TO CALCULATE MEAN MEADIAN MODE**"
   ]
  },
  {
   "cell_type": "code",
   "execution_count": 1,
   "id": "double-statistics",
   "metadata": {
    "execution": {
     "iopub.execute_input": "2021-04-25T09:56:51.913617Z",
     "iopub.status.busy": "2021-04-25T09:56:51.911536Z",
     "iopub.status.idle": "2021-04-25T09:56:51.922736Z",
     "shell.execute_reply": "2021-04-25T09:56:51.923474Z"
    },
    "papermill": {
     "duration": 0.045291,
     "end_time": "2021-04-25T09:56:51.923855",
     "exception": false,
     "start_time": "2021-04-25T09:56:51.878564",
     "status": "completed"
    },
    "tags": []
   },
   "outputs": [
    {
     "name": "stdout",
     "output_type": "stream",
     "text": [
      "24806.855512626706\n",
      "24687.060367573624\n"
     ]
    }
   ],
   "source": [
    "import numpy as np\n",
    "\n",
    "expenditure = np.random.normal(25000, 15000, 10000)\n",
    "\n",
    "#mean\n",
    "mean_ = np.mean(expenditure)\n",
    "\n",
    "#median\n",
    "median_ = np.median(expenditure)\n",
    "\n",
    "print(mean_)\n",
    "print(median_)"
   ]
  },
  {
   "cell_type": "code",
   "execution_count": 2,
   "id": "hourly-difference",
   "metadata": {
    "execution": {
     "iopub.execute_input": "2021-04-25T09:56:51.981685Z",
     "iopub.status.busy": "2021-04-25T09:56:51.981055Z",
     "iopub.status.idle": "2021-04-25T09:56:52.789654Z",
     "shell.execute_reply": "2021-04-25T09:56:52.790133Z"
    },
    "papermill": {
     "duration": 0.839681,
     "end_time": "2021-04-25T09:56:52.790303",
     "exception": false,
     "start_time": "2021-04-25T09:56:51.950622",
     "status": "completed"
    },
    "tags": []
   },
   "outputs": [
    {
     "name": "stdout",
     "output_type": "stream",
     "text": [
      "ModeResult(mode=array([86]), count=array([3]))\n"
     ]
    }
   ],
   "source": [
    "from scipy import stats\n",
    "\n",
    "speed = [99,86,87,88,111,86,103,87,94,78,77,85,86]\n",
    "\n",
    "x = stats.mode(speed)\n",
    "\n",
    "print(x)"
   ]
  },
  {
   "cell_type": "markdown",
   "id": "million-microwave",
   "metadata": {
    "papermill": {
     "duration": 0.025313,
     "end_time": "2021-04-25T09:56:52.841383",
     "exception": false,
     "start_time": "2021-04-25T09:56:52.816070",
     "status": "completed"
    },
    "tags": []
   },
   "source": [
    "## **MEASURES OF DISPERSION**\n",
    "The measures of central tendency are not adequate to describe data. Two data sets can have the same mean but they can be entirely different. Thus to describe data, one needs to know the extent of variability. This is given by the measures of dispersion. Range, interquartile range, and standard deviation are the three commonly used measures of dispersion\n",
    "\n",
    "#### RANGE:\n",
    "* The range is the difference between the largest and the smallest observation in the data\n",
    "\n",
    "#### INTERQUARTILE RANGE:\n",
    "* Interquartile range is defined as the difference between the 25th and 75th percentile (also called the first and third quartile). Hence the interquartile range describes the middle 50% of observations\n",
    "\n",
    "#### STANDARD DEVIATION:\n",
    "* Standard deviation (SD) is the most commonly used measure of dispersion. It is a measure of spread of data about the mean. SD is the square root of sum of squared deviation from the mean divided by the number of observations\n",
    "\n",
    "#### VARIANCE:\n",
    "* It is measured by first finding the Deviation of each element in a data set from the mean, and then by squaring it. Variance is an average of all squared deviations.\n",
    "\n",
    "#### Facts about Standard Deviation:\n",
    "* If the standard deviation is small, the data has little spread (i.e., the majority of points fall very near the mean).\n",
    "* If standard deviation = 0, there is no spread. This only happens when all data items are the same value.\n",
    "* The standard deviation is significantly affected by outliers and skewed distributions"
   ]
  },
  {
   "cell_type": "markdown",
   "id": "convinced-silence",
   "metadata": {
    "papermill": {
     "duration": 0.025344,
     "end_time": "2021-04-25T09:56:52.893491",
     "exception": false,
     "start_time": "2021-04-25T09:56:52.868147",
     "status": "completed"
    },
    "tags": []
   },
   "source": [
    "#### **PYTHON CODE TO CALCULATE MEASURE OF DISPERSION**"
   ]
  },
  {
   "cell_type": "code",
   "execution_count": 3,
   "id": "published-friday",
   "metadata": {
    "execution": {
     "iopub.execute_input": "2021-04-25T09:56:52.948822Z",
     "iopub.status.busy": "2021-04-25T09:56:52.947892Z",
     "iopub.status.idle": "2021-04-25T09:56:52.955640Z",
     "shell.execute_reply": "2021-04-25T09:56:52.956454Z"
    },
    "papermill": {
     "duration": 0.037598,
     "end_time": "2021-04-25T09:56:52.956707",
     "exception": false,
     "start_time": "2021-04-25T09:56:52.919109",
     "status": "completed"
    },
    "tags": []
   },
   "outputs": [
    {
     "name": "stdout",
     "output_type": "stream",
     "text": [
      "4.0\n"
     ]
    }
   ],
   "source": [
    "# Python program to get variance of a list\n",
    "\n",
    "import numpy as np\n",
    "\n",
    "list_ = [2, 4, 4, 4, 5, 5, 7, 9]\n",
    "\n",
    "# Calculating variance using var()\n",
    "print(np.var(list_))"
   ]
  },
  {
   "cell_type": "code",
   "execution_count": 4,
   "id": "moving-minneapolis",
   "metadata": {
    "execution": {
     "iopub.execute_input": "2021-04-25T09:56:53.017218Z",
     "iopub.status.busy": "2021-04-25T09:56:53.016510Z",
     "iopub.status.idle": "2021-04-25T09:56:53.020528Z",
     "shell.execute_reply": "2021-04-25T09:56:53.020004Z"
    },
    "papermill": {
     "duration": 0.036143,
     "end_time": "2021-04-25T09:56:53.020675",
     "exception": false,
     "start_time": "2021-04-25T09:56:52.984532",
     "status": "completed"
    },
    "tags": []
   },
   "outputs": [
    {
     "name": "stdout",
     "output_type": "stream",
     "text": [
      "2.0\n"
     ]
    }
   ],
   "source": [
    "# Python program to get\n",
    "\n",
    "import numpy as np\n",
    "\n",
    "# Taking a list of elements\n",
    "list_ = [2, 4, 4, 4, 5, 5, 7, 9]\n",
    "\n",
    "print(np.std(list_))\n"
   ]
  },
  {
   "cell_type": "markdown",
   "id": "opposed-ozone",
   "metadata": {
    "papermill": {
     "duration": 0.027882,
     "end_time": "2021-04-25T09:56:53.075761",
     "exception": false,
     "start_time": "2021-04-25T09:56:53.047879",
     "status": "completed"
    },
    "tags": []
   },
   "source": [
    "----------------------------------------------------------------------------------------------------------"
   ]
  },
  {
   "cell_type": "markdown",
   "id": "decreased-proposal",
   "metadata": {
    "papermill": {
     "duration": 0.026647,
     "end_time": "2021-04-25T09:56:53.129905",
     "exception": false,
     "start_time": "2021-04-25T09:56:53.103258",
     "status": "completed"
    },
    "tags": []
   },
   "source": [
    "## **2. SAMPLE AND POPULATION IN STATISTICS:**"
   ]
  },
  {
   "cell_type": "markdown",
   "id": "defensive-department",
   "metadata": {
    "papermill": {
     "duration": 0.026188,
     "end_time": "2021-04-25T09:56:53.183364",
     "exception": false,
     "start_time": "2021-04-25T09:56:53.157176",
     "status": "completed"
    },
    "tags": []
   },
   "source": [
    "#### POPULATION:\n",
    "* A population is the entire group that you want to draw conclusions about.\n",
    "\n",
    "#### SAMPLE:\n",
    "* A sample is the specific group that you will collect data from. The size of the sample is always less than the total size of the population."
   ]
  },
  {
   "cell_type": "markdown",
   "id": "mysterious-sessions",
   "metadata": {
    "papermill": {
     "duration": 0.026408,
     "end_time": "2021-04-25T09:56:53.236576",
     "exception": false,
     "start_time": "2021-04-25T09:56:53.210168",
     "status": "completed"
    },
    "tags": []
   },
   "source": [
    "---------------------------------------------"
   ]
  },
  {
   "cell_type": "markdown",
   "id": "dominant-motor",
   "metadata": {
    "papermill": {
     "duration": 0.026553,
     "end_time": "2021-04-25T09:56:53.289690",
     "exception": false,
     "start_time": "2021-04-25T09:56:53.263137",
     "status": "completed"
    },
    "tags": []
   },
   "source": [
    "## **3. RANDOM VARIABLES:**\n",
    "\n",
    "* A random variable is a set of all the possible values from a random experiment.\n",
    "* A random variable is a variable whose possible values are outcomes of a random phenomenon. Random variables can be discrete or continuous. Discrete variables can only take specific values, while continuous random variables can take any value (within a range).\n",
    "\n",
    "#### DISCRETE RANDOM VARIABLE:\n",
    "* A discrete variable is a variable whose value is obtained by counting.\n",
    "* EXAMPLES:  [number of students present, number of red marbles in a jar]\n",
    "\n",
    "#### CONTINUOUS VARIABLE:\n",
    "* A continuous variable is a variable whose value is obtained by measuring\n",
    "* EXAMPLE: [height of students in class, weight of students in class]"
   ]
  },
  {
   "cell_type": "markdown",
   "id": "optimum-trigger",
   "metadata": {
    "papermill": {
     "duration": 0.026362,
     "end_time": "2021-04-25T09:56:53.342757",
     "exception": false,
     "start_time": "2021-04-25T09:56:53.316395",
     "status": "completed"
    },
    "tags": []
   },
   "source": [
    "------------------------------------------------------------------"
   ]
  },
  {
   "cell_type": "markdown",
   "id": "moving-relief",
   "metadata": {
    "papermill": {
     "duration": 0.026388,
     "end_time": "2021-04-25T09:56:53.395782",
     "exception": false,
     "start_time": "2021-04-25T09:56:53.369394",
     "status": "completed"
    },
    "tags": []
   },
   "source": [
    "## **4. PROBABILITY DISTRIBUTIVE FUNCTION:**\n",
    "\n",
    "* A probability distribution is a statistical function that describes all the possible values and likelihoods that a random variable can take within a given range. This range will be bounded between the minimum and maximum possible values, but precisely where the possible value is likely to be plotted on the probability distribution depends on a number of factors. These factors include the distribution's mean (average), standard deviation, skewness, and kurtosis.\n",
    "\n",
    "* For Example: While tossing a fair (unbiased) coin, there could be a chance of the possibility of two outcomes (“heads” and “tails”), which are equally probable. The probability of getting a head or a tail is 50 % or 0.5.\n",
    "\n",
    "* Types of the probability distribution\n",
    "\n",
    "**There are many different types of probability distribution. Some of them which we will be covering in this blog are listed below:**\n",
    "\n",
    "* Normal Distribution\n",
    "* Bernoulli’s Distribution\n",
    "* Binomial Distribution\n",
    "* Uniform Distribution\n",
    "* Student’s T Distribution\n",
    "* Poisson Distribution\n",
    "\n",
    "\n",
    "#### BINOMIAL DISTRIBUTION\n",
    "\n",
    "* The binomial distribution is used when there is more than one outcome of a trial. These outcomes are labeled as “Success” and “Failure.”\n",
    "* Here, the probability of both outcomes is the same for all the trials.\n",
    "* Each trial is independent. The parameters of a binomial distribution are p and n, where p is the probability of success in the individual trial, and n is the total number of trials.\n",
    "\n",
    "#### Normal Distribution (Gaussian Distribution)\n",
    "\n",
    "* Normal Distribution is one of the most common continuous probability distribution. This type of distribution is important in statistics and is often used to represent random variables whose distribution is not known.\n",
    "* This type of distribution is symmetric, and it's mean, median, and mode are equal.\n",
    "* Mathematically, Gaussian Distribution is represented as:\n",
    "                    N~(μ, σ2 ) Where N stands for Normal, symbol ~ for distribution, whereas symbol μ stands for mean and σ2 stands for the variance."
   ]
  },
  {
   "cell_type": "markdown",
   "id": "soviet-magnitude",
   "metadata": {
    "papermill": {
     "duration": 0.026393,
     "end_time": "2021-04-25T09:56:53.449104",
     "exception": false,
     "start_time": "2021-04-25T09:56:53.422711",
     "status": "completed"
    },
    "tags": []
   },
   "source": [
    "#### CODE FOR BINOMIAL & NORMAL DISTRIBUTION:"
   ]
  },
  {
   "cell_type": "code",
   "execution_count": 5,
   "id": "configured-plenty",
   "metadata": {
    "execution": {
     "iopub.execute_input": "2021-04-25T09:56:53.509081Z",
     "iopub.status.busy": "2021-04-25T09:56:53.508298Z",
     "iopub.status.idle": "2021-04-25T09:56:53.879041Z",
     "shell.execute_reply": "2021-04-25T09:56:53.878344Z"
    },
    "papermill": {
     "duration": 0.403316,
     "end_time": "2021-04-25T09:56:53.879182",
     "exception": false,
     "start_time": "2021-04-25T09:56:53.475866",
     "status": "completed"
    },
    "tags": []
   },
   "outputs": [
    {
     "name": "stderr",
     "output_type": "stream",
     "text": [
      "/opt/conda/lib/python3.7/site-packages/seaborn/distributions.py:2557: FutureWarning: `distplot` is a deprecated function and will be removed in a future version. Please adapt your code to use either `displot` (a figure-level function with similar flexibility) or `histplot` (an axes-level function for histograms).\n",
      "  warnings.warn(msg, FutureWarning)\n"
     ]
    },
    {
     "data": {
      "text/plain": [
       "[Text(0.5, 0, 'Binomial'), Text(0, 0.5, 'Frequency')]"
      ]
     },
     "execution_count": 5,
     "metadata": {},
     "output_type": "execute_result"
    },
    {
     "data": {
      "image/png": "[encoded data removed]",
      "text/plain": [
       "<Figure size 432x288 with 1 Axes>"
      ]
     },
     "metadata": {
      "needs_background": "light"
     },
     "output_type": "display_data"
    }
   ],
   "source": [
    "import seaborn\n",
    "from scipy.stats import binom\n",
    "data=binom.rvs(n=17,p=0.7,loc=0,size=1010)\n",
    "ax=seaborn.distplot(data,\n",
    "                kde=True,\n",
    "                color='pink',\n",
    "                hist_kws={\"linewidth\": 22,'alpha':0.77})\n",
    "ax.set(xlabel='Binomial',ylabel='Frequency')"
   ]
  },
  {
   "cell_type": "code",
   "execution_count": 6,
   "id": "hazardous-variety",
   "metadata": {
    "execution": {
     "iopub.execute_input": "2021-04-25T09:56:53.946163Z",
     "iopub.status.busy": "2021-04-25T09:56:53.945481Z",
     "iopub.status.idle": "2021-04-25T09:56:54.189614Z",
     "shell.execute_reply": "2021-04-25T09:56:54.189091Z"
    },
    "papermill": {
     "duration": 0.281146,
     "end_time": "2021-04-25T09:56:54.189758",
     "exception": false,
     "start_time": "2021-04-25T09:56:53.908612",
     "status": "completed"
    },
    "tags": []
   },
   "outputs": [
    {
     "data": {
      "text/plain": [
       "[<matplotlib.lines.Line2D at 0x7f02d76095d0>]"
      ]
     },
     "execution_count": 6,
     "metadata": {},
     "output_type": "execute_result"
    },
    {
     "data": {
      "image/png": "[encoded data removed]",
      "text/plain": [
       "<Figure size 432x288 with 1 Axes>"
      ]
     },
     "metadata": {
      "needs_background": "light"
     },
     "output_type": "display_data"
    }
   ],
   "source": [
    "import scipy.stats\n",
    "import numpy as np\n",
    "import matplotlib.pyplot as plt\n",
    "np.random.seed(1234)\n",
    "samples=np.random.lognormal(mean=1.,sigma=.4,size=10000)\n",
    "shape,loc,scale=scipy.stats.lognorm.fit(samples,floc=0)\n",
    "num_bins=50\n",
    "clr=\"#EFEFEF\"\n",
    "counts,edges,patches=plt.hist(samples,bins=num_bins,color=clr)\n",
    "centers=0.5*(edges[:-1]+edges[1:])\n",
    "cdf=scipy.stats.lognorm.cdf(edges,shape,loc=loc,scale=scale)\n",
    "prob=np.diff(cdf)\n",
    "plt.plot(centers,samples.size*prob,'k-',linewidth=2)"
   ]
  },
  {
   "cell_type": "markdown",
   "id": "affiliated-cutting",
   "metadata": {
    "papermill": {
     "duration": 0.029736,
     "end_time": "2021-04-25T09:56:54.249432",
     "exception": false,
     "start_time": "2021-04-25T09:56:54.219696",
     "status": "completed"
    },
    "tags": []
   },
   "source": [
    "-------------------------------------------------------------"
   ]
  },
  {
   "cell_type": "markdown",
   "id": "convenient-sister",
   "metadata": {
    "papermill": {
     "duration": 0.029003,
     "end_time": "2021-04-25T09:56:54.308278",
     "exception": false,
     "start_time": "2021-04-25T09:56:54.279275",
     "status": "completed"
    },
    "tags": []
   },
   "source": [
    "## **5. SKEWED DISTRIBUTION**\n",
    "\n",
    "* If one tail is longer than another, the distribution is skewed. These distributions are sometimes called asymmetric or asymmetrical distributions as they don’t show any kind of symmetry. Symmetry means that one half of the distribution is a mirror image of the other half. For example, the normal distribution is a symmetric distribution with no skew. The tails are exactly the same.\n",
    "\n",
    "![](https://www.statisticshowto.com/wp-content/uploads/2013/09/normal-distribution-probability.jpg)\n",
    "\n",
    "#### LEFT SKEWED DISTRIBUTION:\n",
    "\n",
    "* A left-skewed distribution has a long left tail. Left-skewed distributions are also called negatively-skewed distributions. That’s because there is a long tail in the negative direction on the number line. The mean is also to the left of the peak.\n",
    "\n",
    "#### RIGHT SKEWED DISTRIBUTION:\n",
    "\n",
    "* A right-skewed distribution has a long right tail. Right-skewed distributions are also called positive-skew distributions. That’s because there is a long tail in the positive direction on the number line. The mean is also to the right of the peak.\n",
    "\n",
    "![](https://www.statisticshowto.com/wp-content/uploads/2014/02/pearson-mode-skewness.jpg)\n",
    "\n",
    "\n",
    "#### RELATION BETWEEN MEAN MEDIAN MODE IN LEFT/RIGHT SKEWNESS:\n",
    "\n",
    "* LEFT SKEW  - **MODE>MEDIAN>MEAN**\n",
    "* RIGHT SKEW - **MEAN>MEDIAN>MODE** "
   ]
  },
  {
   "cell_type": "markdown",
   "id": "experimental-student",
   "metadata": {
    "papermill": {
     "duration": 0.029071,
     "end_time": "2021-04-25T09:56:54.367021",
     "exception": false,
     "start_time": "2021-04-25T09:56:54.337950",
     "status": "completed"
    },
    "tags": []
   },
   "source": [
    "-------------------------"
   ]
  },
  {
   "cell_type": "markdown",
   "id": "geographic-manner",
   "metadata": {
    "papermill": {
     "duration": 0.029277,
     "end_time": "2021-04-25T09:56:54.426127",
     "exception": false,
     "start_time": "2021-04-25T09:56:54.396850",
     "status": "completed"
    },
    "tags": []
   },
   "source": [
    "## **6. Z - SCORE**\n",
    "\n",
    "* Simply put, a z-score (also called a standard score) gives you an idea of how far from the mean a data point is. But more technically it’s a measure of how many standard deviations below or above the population mean a raw score is.\n",
    "\n",
    "* A z-score can be placed on a normal distribution curve. Z-scores range from -3 standard deviations (which would fall to the far left of the normal distribution curve) up to +3 standard deviations (which would fall to the far right of the normal distribution curve). In order to use a z-score, you need to know the mean μ and also the population standard deviation σ.\n",
    "\n",
    "![](https://i.redd.it/phyxlmm9i7y01.jpg)"
   ]
  },
  {
   "cell_type": "markdown",
   "id": "indirect-begin",
   "metadata": {
    "papermill": {
     "duration": 0.029126,
     "end_time": "2021-04-25T09:56:54.484844",
     "exception": false,
     "start_time": "2021-04-25T09:56:54.455718",
     "status": "completed"
    },
    "tags": []
   },
   "source": [
    "#### PYTHON CODE TO CALCULATE Z-SCORE:"
   ]
  },
  {
   "cell_type": "code",
   "execution_count": 7,
   "id": "recreational-grace",
   "metadata": {
    "execution": {
     "iopub.execute_input": "2021-04-25T09:56:54.551297Z",
     "iopub.status.busy": "2021-04-25T09:56:54.550667Z",
     "iopub.status.idle": "2021-04-25T09:56:54.555289Z",
     "shell.execute_reply": "2021-04-25T09:56:54.555739Z"
    },
    "papermill": {
     "duration": 0.041475,
     "end_time": "2021-04-25T09:56:54.555936",
     "exception": false,
     "start_time": "2021-04-25T09:56:54.514461",
     "status": "completed"
    },
    "tags": []
   },
   "outputs": [
    {
     "data": {
      "text/plain": [
       "array([-1.39443338, -1.19522861, -1.19522861, -0.19920477,  0.        ,\n",
       "        0.        ,  0.39840954,  0.5976143 ,  1.19522861,  1.79284291])"
      ]
     },
     "execution_count": 7,
     "metadata": {},
     "output_type": "execute_result"
    }
   ],
   "source": [
    "import pandas as pd\n",
    "import numpy as np\n",
    "import scipy.stats as stats\n",
    "\n",
    "data = np.array([6, 7, 7, 12, 13, 13, 15, 16, 19, 22])\n",
    "\n",
    "stats.zscore(data)"
   ]
  },
  {
   "cell_type": "markdown",
   "id": "addressed-salem",
   "metadata": {
    "papermill": {
     "duration": 0.029513,
     "end_time": "2021-04-25T09:56:54.615477",
     "exception": false,
     "start_time": "2021-04-25T09:56:54.585964",
     "status": "completed"
    },
    "tags": []
   },
   "source": [
    "Each z-score tells us how many standard deviations away an individual value is from the mean. **For example**:\n",
    "\n",
    "- The first value of “6” in the array is 1.394 standard deviations below the mean.\n",
    "- The fifth value of “13” in the array is 0 standard deviations away from the mean, i.e. it is equal to the mean.\n",
    "- The last value of “22” in the array is 1.793 standard deviations above the mean."
   ]
  },
  {
   "cell_type": "code",
   "execution_count": 8,
   "id": "signal-worcester",
   "metadata": {
    "execution": {
     "iopub.execute_input": "2021-04-25T09:56:54.683285Z",
     "iopub.status.busy": "2021-04-25T09:56:54.682612Z",
     "iopub.status.idle": "2021-04-25T09:56:54.686888Z",
     "shell.execute_reply": "2021-04-25T09:56:54.687426Z"
    },
    "papermill": {
     "duration": 0.041994,
     "end_time": "2021-04-25T09:56:54.687599",
     "exception": false,
     "start_time": "2021-04-25T09:56:54.645605",
     "status": "completed"
    },
    "tags": []
   },
   "outputs": [
    {
     "data": {
      "text/plain": [
       "array([[-1.56892908, -0.58834841,  0.39223227,  0.39223227,  1.37281295],\n",
       "       [-0.81649658, -0.81649658, -0.81649658,  1.22474487,  1.22474487],\n",
       "       [-1.16666667, -1.16666667,  0.5       ,  0.5       ,  1.33333333]])"
      ]
     },
     "execution_count": 8,
     "metadata": {},
     "output_type": "execute_result"
    }
   ],
   "source": [
    "# FOR MULTI DIMENSIONAL DATA:\n",
    "\n",
    "data_multi = np.array([[5, 6, 7, 7, 8],\n",
    "                 [8, 8, 8, 9, 9],\n",
    "                 [2, 2, 4, 4, 5]])\n",
    "\n",
    "stats.zscore(data_multi, axis=1)"
   ]
  },
  {
   "cell_type": "code",
   "execution_count": 9,
   "id": "viral-blocking",
   "metadata": {
    "execution": {
     "iopub.execute_input": "2021-04-25T09:56:54.755635Z",
     "iopub.status.busy": "2021-04-25T09:56:54.754634Z",
     "iopub.status.idle": "2021-04-25T09:56:54.773882Z",
     "shell.execute_reply": "2021-04-25T09:56:54.773349Z"
    },
    "papermill": {
     "duration": 0.055753,
     "end_time": "2021-04-25T09:56:54.774059",
     "exception": false,
     "start_time": "2021-04-25T09:56:54.718306",
     "status": "completed"
    },
    "tags": []
   },
   "outputs": [
    {
     "data": {
      "text/html": [
       "<div>\n",
       "<style scoped>\n",
       "    .dataframe tbody tr th:only-of-type {\n",
       "        vertical-align: middle;\n",
       "    }\n",
       "\n",
       "    .dataframe tbody tr th {\n",
       "        vertical-align: top;\n",
       "    }\n",
       "\n",
       "    .dataframe thead th {\n",
       "        text-align: right;\n",
       "    }\n",
       "</style>\n",
       "<table border=\"1\" class=\"dataframe\">\n",
       "  <thead>\n",
       "    <tr style=\"text-align: right;\">\n",
       "      <th></th>\n",
       "      <th>A</th>\n",
       "      <th>B</th>\n",
       "      <th>C</th>\n",
       "    </tr>\n",
       "  </thead>\n",
       "  <tbody>\n",
       "    <tr>\n",
       "      <th>0</th>\n",
       "      <td>-1.224745</td>\n",
       "      <td>-0.392232</td>\n",
       "      <td>0.306186</td>\n",
       "    </tr>\n",
       "    <tr>\n",
       "      <th>1</th>\n",
       "      <td>0.000000</td>\n",
       "      <td>0.261488</td>\n",
       "      <td>1.326807</td>\n",
       "    </tr>\n",
       "    <tr>\n",
       "      <th>2</th>\n",
       "      <td>0.408248</td>\n",
       "      <td>-1.699673</td>\n",
       "      <td>0.306186</td>\n",
       "    </tr>\n",
       "    <tr>\n",
       "      <th>3</th>\n",
       "      <td>1.632993</td>\n",
       "      <td>1.242069</td>\n",
       "      <td>-0.204124</td>\n",
       "    </tr>\n",
       "    <tr>\n",
       "      <th>4</th>\n",
       "      <td>-0.816497</td>\n",
       "      <td>0.588348</td>\n",
       "      <td>-1.735055</td>\n",
       "    </tr>\n",
       "  </tbody>\n",
       "</table>\n",
       "</div>"
      ],
      "text/plain": [
       "          A         B         C\n",
       "0 -1.224745 -0.392232  0.306186\n",
       "1  0.000000  0.261488  1.326807\n",
       "2  0.408248 -1.699673  0.306186\n",
       "3  1.632993  1.242069 -0.204124\n",
       "4 -0.816497  0.588348 -1.735055"
      ]
     },
     "execution_count": 9,
     "metadata": {},
     "output_type": "execute_result"
    }
   ],
   "source": [
    "# Z-SCORE OF PANDAS DATA FRAME:\n",
    "\n",
    "data_dataframe = pd.DataFrame(np.random.randint(0, 10, size=(5, 3)), columns=['A', 'B', 'C'])\n",
    "\n",
    "data_dataframe.apply(stats.zscore)"
   ]
  },
  {
   "cell_type": "markdown",
   "id": "floating-lyric",
   "metadata": {
    "papermill": {
     "duration": 0.031415,
     "end_time": "2021-04-25T09:56:54.837596",
     "exception": false,
     "start_time": "2021-04-25T09:56:54.806181",
     "status": "completed"
    },
    "tags": []
   },
   "source": [
    "---------------------------------------------------------------------------------"
   ]
  },
  {
   "cell_type": "markdown",
   "id": "atmospheric-glasgow",
   "metadata": {
    "papermill": {
     "duration": 0.030706,
     "end_time": "2021-04-25T09:56:54.900490",
     "exception": false,
     "start_time": "2021-04-25T09:56:54.869784",
     "status": "completed"
    },
    "tags": []
   },
   "source": [
    "## **7. CENTRAL LIMIT THEOREM**\n",
    "\n",
    "* The central limit theorem states that if you have a population with mean μ and standard deviation σ and take sufficiently large random samples from the population with replacementtext annotation indicator, then the distribution of the sample means will be approximately normally distributed."
   ]
  },
  {
   "cell_type": "markdown",
   "id": "fourth-alexander",
   "metadata": {
    "papermill": {
     "duration": 0.030588,
     "end_time": "2021-04-25T09:56:54.962440",
     "exception": false,
     "start_time": "2021-04-25T09:56:54.931852",
     "status": "completed"
    },
    "tags": []
   },
   "source": [
    "#### **CODE FOR CENTRAL LIMIT THEOREM:**"
   ]
  },
  {
   "cell_type": "code",
   "execution_count": 10,
   "id": "continent-lithuania",
   "metadata": {
    "execution": {
     "iopub.execute_input": "2021-04-25T09:56:55.033362Z",
     "iopub.status.busy": "2021-04-25T09:56:55.032683Z",
     "iopub.status.idle": "2021-04-25T09:56:55.249804Z",
     "shell.execute_reply": "2021-04-25T09:56:55.250372Z"
    },
    "papermill": {
     "duration": 0.256168,
     "end_time": "2021-04-25T09:56:55.250556",
     "exception": false,
     "start_time": "2021-04-25T09:56:54.994388",
     "status": "completed"
    },
    "tags": []
   },
   "outputs": [
    {
     "name": "stderr",
     "output_type": "stream",
     "text": [
      "/opt/conda/lib/python3.7/site-packages/seaborn/distributions.py:2557: FutureWarning: `distplot` is a deprecated function and will be removed in a future version. Please adapt your code to use either `displot` (a figure-level function with similar flexibility) or `histplot` (an axes-level function for histograms).\n",
      "  warnings.warn(msg, FutureWarning)\n"
     ]
    },
    {
     "data": {
      "image/png": "[encoded data removed]",
      "text/plain": [
       "<Figure size 576x432 with 1 Axes>"
      ]
     },
     "metadata": {
      "needs_background": "light"
     },
     "output_type": "display_data"
    }
   ],
   "source": [
    "import numpy as np\n",
    "import matplotlib.pyplot as plt\n",
    "import seaborn as sns\n",
    "# defining the sample size and number of samples we want to have\n",
    "sample_size = 30\n",
    "sample_number = 1000\n",
    "sample_means = []\n",
    "for i in range(0, sample_number):\n",
    "    # randomly picking sample from the population distribution\n",
    "    # In this case the population distribution is an Uniform distribution\n",
    "    sample = np.random.uniform(1, 20, sample_size)\n",
    "    sample_mean = sample.mean()\n",
    "    sample_means.append(sample_mean)\n",
    "    \n",
    "plt.figure(figsize = (8, 6))\n",
    "sns.distplot(sample_means, bins = 12);"
   ]
  },
  {
   "cell_type": "markdown",
   "id": "furnished-commerce",
   "metadata": {
    "papermill": {
     "duration": 0.032232,
     "end_time": "2021-04-25T09:56:55.316311",
     "exception": false,
     "start_time": "2021-04-25T09:56:55.284079",
     "status": "completed"
    },
    "tags": []
   },
   "source": [
    "* The Kernal Density Estimation(KDE) of the plot looks like a Normal distribution. Right? That’s what Central Limit Theorem(CLT) is all about.\n",
    "\n",
    "* Central Limit Theorem says, The sampling distribution of the sample means will have a Normal distribution with the mean equal to the population mean and the variance equal to the variance of the population distibution divided by the size of each samples as the sample size tends to reach infinity, irrespective of the type of the population distribution.\n",
    "\n",
    "#### But why should we care about Central Limit Theorem?\n",
    "\n",
    "* Central Limit Theorem is used a lot in Data Analysis tasks and by using central limit theorem we can get the mean of any type of population distribution as long as the mean and the variance of the population distribution is finite."
   ]
  },
  {
   "cell_type": "markdown",
   "id": "suitable-disease",
   "metadata": {
    "papermill": {
     "duration": 0.032469,
     "end_time": "2021-04-25T09:56:55.382248",
     "exception": false,
     "start_time": "2021-04-25T09:56:55.349779",
     "status": "completed"
    },
    "tags": []
   },
   "source": [
    "## **CONCLUSION:**\n",
    "\n",
    "### This is the Part 1 of Statistics Concepts for data science. After going through this you'll be clear about basics of statistics. In the next part i'll be showing few more and good concepts of statistics which are widely used for data analysis part."
   ]
  },
  {
   "cell_type": "markdown",
   "id": "toxic-delicious",
   "metadata": {
    "papermill": {
     "duration": 0.032259,
     "end_time": "2021-04-25T09:56:55.447544",
     "exception": false,
     "start_time": "2021-04-25T09:56:55.415285",
     "status": "completed"
    },
    "tags": []
   },
   "source": [
    "## **IF THIS KERNEL HELPS YOU, GIVE ME AN UPVOTE.** "
   ]
  }
 ],
 "metadata": {
  "kernelspec": {
   "display_name": "Python 3",
   "language": "python",
   "name": "python3"
  },
  "language_info": {
   "codemirror_mode": {
    "name": "ipython",
    "version": 3
   },
   "file_extension": ".py",
   "mimetype": "text/x-python",
   "name": "python",
   "nbconvert_exporter": "python",
   "pygments_lexer": "ipython3",
   "version": "3.7.10"
  },
  "papermill": {
   "default_parameters": {},
   "duration": 13.572441,
   "end_time": "2021-04-25T09:56:56.190516",
   "environment_variables": {},
   "exception": null,
   "input_path": "__notebook__.ipynb",
   "output_path": "__notebook__.ipynb",
   "parameters": {},
   "start_time": "2021-04-25T09:56:42.618075",
   "version": "2.3.3"
  }
 },
 "nbformat": 4,
 "nbformat_minor": 5
}
