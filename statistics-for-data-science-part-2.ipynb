{
 "cells": [
  {
   "cell_type": "markdown",
   "id": "alike-thanksgiving",
   "metadata": {
    "_cell_guid": "b1076dfc-b9ad-4769-8c92-a6c4dae69d19",
    "_uuid": "8f2839f25d086af736a60e9eeb907d3b93b6e0e5",
    "papermill": {
     "duration": 0.029394,
     "end_time": "2021-04-26T07:42:45.431006",
     "exception": false,
     "start_time": "2021-04-26T07:42:45.401612",
     "status": "completed"
    },
    "tags": []
   },
   "source": [
    "### HELLO GUYS, \n",
    " \n",
    "### THIS IS THE SECOND PART OF STATISTICS FOR DATA SCIENCE. IF YOU HAVE NOT SEEN MY FIRST PART, HERE IS THE LINK FOR IT: \n",
    "\n",
    "### https://www.kaggle.com/harshjain123/statistics-for-data-science-part-1/edit\n",
    "    "
   ]
  },
  {
   "cell_type": "markdown",
   "id": "twelve-sunday",
   "metadata": {
    "papermill": {
     "duration": 0.026329,
     "end_time": "2021-04-26T07:42:45.485815",
     "exception": false,
     "start_time": "2021-04-26T07:42:45.459486",
     "status": "completed"
    },
    "tags": []
   },
   "source": [
    "![](https://www.statisticshowto.com/wp-content/uploads/2013/10/cropped-banner-21.jpg)"
   ]
  },
  {
   "cell_type": "markdown",
   "id": "advance-division",
   "metadata": {
    "papermill": {
     "duration": 0.027474,
     "end_time": "2021-04-26T07:42:45.539179",
     "exception": false,
     "start_time": "2021-04-26T07:42:45.511705",
     "status": "completed"
    },
    "tags": []
   },
   "source": [
    "# TABLE OF CONTENTS:\n",
    "\n",
    "#### 1. HYPOTHESIS TESTING USING P-VALUE\n",
    "* **TYPE-1 / TYPE-2 ERROR**\n",
    "* **CONFIDENCE INTERVAL**\n",
    "\n",
    "#### 2. CHI-SQUARE TEST\n",
    "#### 3. ANOVA TEST"
   ]
  },
  {
   "cell_type": "markdown",
   "id": "handled-biotechnology",
   "metadata": {
    "papermill": {
     "duration": 0.026418,
     "end_time": "2021-04-26T07:42:45.592093",
     "exception": false,
     "start_time": "2021-04-26T07:42:45.565675",
     "status": "completed"
    },
    "tags": []
   },
   "source": [
    "-----------------------------------------------------------"
   ]
  },
  {
   "cell_type": "markdown",
   "id": "polish-mercury",
   "metadata": {
    "papermill": {
     "duration": 0.026219,
     "end_time": "2021-04-26T07:42:45.644958",
     "exception": false,
     "start_time": "2021-04-26T07:42:45.618739",
     "status": "completed"
    },
    "tags": []
   },
   "source": [
    "## **1. HYPOTHESIS TESTING:**\n",
    "\n",
    "\n",
    "* Hypothesis testing is one of the most important topics in statistics.Based on hypothesis testing big business decisions can be taken in the company. So a good understanding of this topic will help you a lot to take a right business decision in the industry"
   ]
  },
  {
   "cell_type": "markdown",
   "id": "announced-viking",
   "metadata": {
    "papermill": {
     "duration": 0.025171,
     "end_time": "2021-04-26T07:42:45.696537",
     "exception": false,
     "start_time": "2021-04-26T07:42:45.671366",
     "status": "completed"
    },
    "tags": []
   },
   "source": [
    "### WHAT IS HYPOTHESIS ?\n",
    "* A hypothesis is an Assumption about something in the world around you. It should be testable, either by experiment or observation. \n",
    "* For example:\n",
    "    1. A new medicine you think might work.\n",
    "    2. A way of teaching you think might be better.\n",
    "    3. A possible location of new species.\n",
    "    4. A fairer way to administer standardized tests.\n",
    "\n",
    "### WHAT IS HYPOTHESIS TESTING ?\n",
    "* Hypothesis testing in statistics is a way for you to test the results of a survey or experiment to see if you have meaningful results. You’re basically testing whether your results are valid by figuring out the odds that your results have happened by chance.\n",
    "\n",
    "\n",
    "### TYPES OF HYPOTHESIS:\n",
    "\n",
    "### NULL HYPOTHESIS\n",
    "* The null hypothesis is the hypothesis to be tested for possible rejection under the assumption that it is true. \n",
    "* It is denoted by H0.\n",
    "\n",
    "### ALTERNATE HYPOTHESIS\n",
    "* The alternative hypothesis complements the Null hypothesis. It is the opposite of the null hypothesis.\n",
    "* It is denoted by H1 or HA.\n",
    "\n",
    "### EXAMPLE:\n",
    "\n",
    "A pharmacy company claims that Covid Vaccine is 93% accurate to get cured from Corona. To test the claim of this company we will formulate the null and alternate hypothesis.\n",
    "\n",
    "NULL HYPOTHESIS - Average = 93%\n",
    "ALTERNATE  - Average is not equal to 99%.\n",
    "\n",
    "**NOTE** : When we test a hypothesis, we assume the null hypothesis to be true until there is sufficient evidence in the sample to prove it false. In that case, we reject the null hypothesis and support the alternate hypothesis. If the sample fails to provide sufficient evidence for us to reject the null hypothesis, we cannot say that the null hypothesis is true because it is based on just the sample data. For saying the null hypothesis is true we will have to study the whole population data.\n"
   ]
  },
  {
   "cell_type": "markdown",
   "id": "secret-manor",
   "metadata": {
    "papermill": {
     "duration": 0.025925,
     "end_time": "2021-04-26T07:42:45.750235",
     "exception": false,
     "start_time": "2021-04-26T07:42:45.724310",
     "status": "completed"
    },
    "tags": []
   },
   "source": [
    "--------------------------------------------"
   ]
  },
  {
   "cell_type": "markdown",
   "id": "innocent-option",
   "metadata": {
    "papermill": {
     "duration": 0.02437,
     "end_time": "2021-04-26T07:42:45.798596",
     "exception": false,
     "start_time": "2021-04-26T07:42:45.774226",
     "status": "completed"
    },
    "tags": []
   },
   "source": [
    "## **HYPOTHESIS TESTING USING P - VALUES**\n",
    "\n",
    "* Hypothesis testing is a statistical method which is used to make decision about entire population, with the help of only sample data. To make this decision, we come up with a value called as **p-value.**\n",
    "\n",
    "#### **There are FOUR STEPS in using the P-value approach to conducting any hypothesis test:**\n",
    "**STEP-1**: Specify the Null and Alternative Hypothesis.\n",
    "\n",
    "![](https://miro.medium.com/max/638/1*Y_MFazuCip95ppdZhUEutw.png)\n",
    "\n",
    "**STEP-2**: Determine the Significance Level (Alpha):\n",
    "        The significance level is a probability of rejecting the null hypothesis when it is actually true.         It is denoted by alpha ( α ). It is determined before conducting the experiment.\n",
    "        \n",
    "* In many statistical analyses, we observe something written as — “ with a 95% confidence interval”. This statement, actually tells us about the significance level, such that,\n",
    " **Confidence Interval = 1 — Significance Level**\n",
    "        \n",
    "* so, here “95% confidence interval” tells us that Significance Level is 0.05.\n",
    "       \n",
    "**STEP-3**: Calculate P value & Make Decision:\n",
    "            \n",
    "* The p-value is a probability of observing the results of the Null Hypothesis. The significance level is the target value, which should be achieved if we want to retain the Null Hypothesis.\n",
    "\n",
    "![](https://miro.medium.com/max/465/1*hWEYOt9zq731nQ7D_6hPXg.png)\n",
    "\n",
    "* Hence, as long as the p-value is less than the significance level, we must reject the null hypothesis. Lower p-value means, the population or the entire data has strong evidence against the null hypothesis.\n",
    "\n",
    "* The p-value is calculated based on the sample data. It evaluates how well the sample data support the null hypothesis. Hence, a higher p-value, indicates that the sampled data is really supporting the null hypothesis. In other words, there is no enough evidence in sampled data to reject the null hypothesis.\n",
    "\n",
    "#### **NOTE**: \n",
    "* As we are observing the sampled data, we might make mistakes while making the decision to retain or reject the null hypothesis. These wrong decisions are translated into something called **ERRORS.**\n",
    "\n",
    "\n"
   ]
  },
  {
   "cell_type": "markdown",
   "id": "attractive-modern",
   "metadata": {
    "papermill": {
     "duration": 0.027914,
     "end_time": "2021-04-26T07:42:45.851560",
     "exception": false,
     "start_time": "2021-04-26T07:42:45.823646",
     "status": "completed"
    },
    "tags": []
   },
   "source": [
    "## **TYPE-1 & TYPE-2 ERRORS**"
   ]
  },
  {
   "cell_type": "markdown",
   "id": "equal-server",
   "metadata": {
    "papermill": {
     "duration": 0.023784,
     "end_time": "2021-04-26T07:42:45.899705",
     "exception": false,
     "start_time": "2021-04-26T07:42:45.875921",
     "status": "completed"
    },
    "tags": []
   },
   "source": [
    "![](https://www.simplypsychology.org/type-1-and-2-errors.jpg)\n",
    "\n",
    "#### TYPE-1 ERROR:\n",
    "* This error occurs when the decision to reject the null hypothesis goes wrong. In this error, the alternative hypothesis H₁ is chosen, when the null hypothesis H₀ is true. This is also called False Positive.\n",
    "* Type I error is often denoted by alpha α i.e. significance level. alpha α is the threshold for the percentage of Type I errors we are willing to commit.\n",
    "* α= P [rejecting H0 when H0 is true] \n",
    "\n",
    "#### TYPE-2 ERROR:\n",
    "* This error occurs when the decision to retain the null hypothesis goes wrong. In this error, the null hypothesis H0 is chosen, when the alternative hypothesis H1 is true. This is also called False Negative.\n",
    "* β = P [not rejecting H0 when h1 is true]\n",
    "\n",
    "#### EXAMPLE:\n",
    "\n",
    "* Person is arrested on the charge of being guilty of burglary. A jury of judges has to decide guilty or not guilty.H0: Person is innocentH1: Person is guilty.\n",
    "\n",
    "* **Type I error** will be if the Jury convicts the person [rejects H0] although the person was innocent [H0 is true].\n",
    "* **Type II error** will be the case when Jury released the person [Do not reject H0] although the person is guilty [H1 is true].\n",
    "\n",
    "\n",
    "\n",
    "\n",
    "\n"
   ]
  },
  {
   "cell_type": "markdown",
   "id": "floppy-acrylic",
   "metadata": {
    "papermill": {
     "duration": 0.027149,
     "end_time": "2021-04-26T07:42:45.956170",
     "exception": false,
     "start_time": "2021-04-26T07:42:45.929021",
     "status": "completed"
    },
    "tags": []
   },
   "source": [
    "#### **PYTHON CODE** EXAMPLE -1"
   ]
  },
  {
   "cell_type": "code",
   "execution_count": 1,
   "id": "gorgeous-upgrade",
   "metadata": {
    "execution": {
     "iopub.execute_input": "2021-04-26T07:42:46.019871Z",
     "iopub.status.busy": "2021-04-26T07:42:46.019028Z",
     "iopub.status.idle": "2021-04-26T07:42:46.022488Z",
     "shell.execute_reply": "2021-04-26T07:42:46.022990Z"
    },
    "papermill": {
     "duration": 0.041248,
     "end_time": "2021-04-26T07:42:46.023297",
     "exception": false,
     "start_time": "2021-04-26T07:42:45.982049",
     "status": "completed"
    },
    "tags": []
   },
   "outputs": [
    {
     "name": "stdout",
     "output_type": "stream",
     "text": [
      "30.34375\n"
     ]
    }
   ],
   "source": [
    "ages=[10,20,35,50,28,40,55,18,16,55,30,25,43,18,30,28,14,24,16,17,32,35,26,27,65,18,43,23,21,20,19,70]\n",
    "\n",
    "\n",
    "import numpy as np\n",
    "ages_mean=np.mean(ages)\n",
    "print(ages_mean)\n",
    "\n"
   ]
  },
  {
   "cell_type": "code",
   "execution_count": 2,
   "id": "liberal-distance",
   "metadata": {
    "execution": {
     "iopub.execute_input": "2021-04-26T07:42:46.090249Z",
     "iopub.status.busy": "2021-04-26T07:42:46.089249Z",
     "iopub.status.idle": "2021-04-26T07:42:46.093513Z",
     "shell.execute_reply": "2021-04-26T07:42:46.094042Z"
    },
    "papermill": {
     "duration": 0.040864,
     "end_time": "2021-04-26T07:42:46.094219",
     "exception": false,
     "start_time": "2021-04-26T07:42:46.053355",
     "status": "completed"
    },
    "tags": []
   },
   "outputs": [
    {
     "data": {
      "text/plain": [
       "array([20, 30, 28, 43, 16, 18, 35, 24, 65, 16])"
      ]
     },
     "execution_count": 2,
     "metadata": {},
     "output_type": "execute_result"
    }
   ],
   "source": [
    "\n",
    "## Lets take sample\n",
    "\n",
    "sample_size=10\n",
    "age_sample=np.random.choice(ages,sample_size)\n",
    "age_sample"
   ]
  },
  {
   "cell_type": "code",
   "execution_count": 3,
   "id": "correct-green",
   "metadata": {
    "execution": {
     "iopub.execute_input": "2021-04-26T07:42:46.155488Z",
     "iopub.status.busy": "2021-04-26T07:42:46.154663Z",
     "iopub.status.idle": "2021-04-26T07:42:47.114475Z",
     "shell.execute_reply": "2021-04-26T07:42:47.115226Z"
    },
    "papermill": {
     "duration": 0.993696,
     "end_time": "2021-04-26T07:42:47.115437",
     "exception": false,
     "start_time": "2021-04-26T07:42:46.121741",
     "status": "completed"
    },
    "tags": []
   },
   "outputs": [
    {
     "name": "stdout",
     "output_type": "stream",
     "text": [
      "0.9196852091073019\n"
     ]
    }
   ],
   "source": [
    "from scipy.stats import ttest_1samp\n",
    "\n",
    "ttest,p_value=ttest_1samp(age_sample,30)\n",
    "\n",
    "print(p_value)"
   ]
  },
  {
   "cell_type": "code",
   "execution_count": 4,
   "id": "stopped-retail",
   "metadata": {
    "execution": {
     "iopub.execute_input": "2021-04-26T07:42:47.187298Z",
     "iopub.status.busy": "2021-04-26T07:42:47.186533Z",
     "iopub.status.idle": "2021-04-26T07:42:47.192005Z",
     "shell.execute_reply": "2021-04-26T07:42:47.191382Z"
    },
    "papermill": {
     "duration": 0.041103,
     "end_time": "2021-04-26T07:42:47.192175",
     "exception": false,
     "start_time": "2021-04-26T07:42:47.151072",
     "status": "completed"
    },
    "tags": []
   },
   "outputs": [
    {
     "name": "stdout",
     "output_type": "stream",
     "text": [
      "we are accepting null hypothesis\n"
     ]
    }
   ],
   "source": [
    "if p_value < 0.05:    # alpha value is 0.05 or 5%\n",
    "    print(\" we are rejecting null hypothesis\")\n",
    "else:\n",
    "    print(\"we are accepting null hypothesis\")"
   ]
  },
  {
   "cell_type": "markdown",
   "id": "personalized-college",
   "metadata": {
    "papermill": {
     "duration": 0.025817,
     "end_time": "2021-04-26T07:42:47.247983",
     "exception": false,
     "start_time": "2021-04-26T07:42:47.222166",
     "status": "completed"
    },
    "tags": []
   },
   "source": [
    "#### **PYTHON CODE** EXAMPLE-2"
   ]
  },
  {
   "cell_type": "code",
   "execution_count": 5,
   "id": "advised-tampa",
   "metadata": {
    "execution": {
     "iopub.execute_input": "2021-04-26T07:42:47.306691Z",
     "iopub.status.busy": "2021-04-26T07:42:47.305927Z",
     "iopub.status.idle": "2021-04-26T07:42:47.308517Z",
     "shell.execute_reply": "2021-04-26T07:42:47.309125Z"
    },
    "papermill": {
     "duration": 0.03496,
     "end_time": "2021-04-26T07:42:47.309393",
     "exception": false,
     "start_time": "2021-04-26T07:42:47.274433",
     "status": "completed"
    },
    "tags": []
   },
   "outputs": [],
   "source": [
    "\n",
    "import numpy as np\n",
    "import pandas as pd\n",
    "import scipy.stats as stats\n",
    "import math\n",
    "np.random.seed(6)\n",
    "school_ages=stats.poisson.rvs(loc=18,mu=35,size=1500)\n",
    "classA_ages=stats.poisson.rvs(loc=18,mu=30,size=60)"
   ]
  },
  {
   "cell_type": "code",
   "execution_count": 6,
   "id": "northern-agent",
   "metadata": {
    "execution": {
     "iopub.execute_input": "2021-04-26T07:42:47.372149Z",
     "iopub.status.busy": "2021-04-26T07:42:47.371291Z",
     "iopub.status.idle": "2021-04-26T07:42:47.378364Z",
     "shell.execute_reply": "2021-04-26T07:42:47.377855Z"
    },
    "papermill": {
     "duration": 0.038244,
     "end_time": "2021-04-26T07:42:47.378510",
     "exception": false,
     "start_time": "2021-04-26T07:42:47.340266",
     "status": "completed"
    },
    "tags": []
   },
   "outputs": [
    {
     "name": "stdout",
     "output_type": "stream",
     "text": [
      " we are rejecting null hypothesis\n"
     ]
    }
   ],
   "source": [
    "\n",
    "_,p_value=stats.ttest_1samp(a=classA_ages,popmean=school_ages.mean())\n",
    "\n",
    "if p_value < 0.05:    # alpha value is 0.05 or 5%\n",
    "    print(\" we are rejecting null hypothesis\")\n",
    "else:\n",
    "    print(\"we are accepting null hypothesis\")"
   ]
  },
  {
   "cell_type": "markdown",
   "id": "manual-covering",
   "metadata": {
    "papermill": {
     "duration": 0.027713,
     "end_time": "2021-04-26T07:42:47.433266",
     "exception": false,
     "start_time": "2021-04-26T07:42:47.405553",
     "status": "completed"
    },
    "tags": []
   },
   "source": [
    "--------------------------------"
   ]
  },
  {
   "cell_type": "markdown",
   "id": "balanced-extent",
   "metadata": {
    "papermill": {
     "duration": 0.028952,
     "end_time": "2021-04-26T07:42:47.489787",
     "exception": false,
     "start_time": "2021-04-26T07:42:47.460835",
     "status": "completed"
    },
    "tags": []
   },
   "source": [
    "## **CONFIDENCE INTERVAL**\n",
    "\n",
    "* A confidence interval, in statistics, refers to the probability that a population parameter will fall between a set of values for a certain proportion of times.\n",
    "* Confidence intervals measure the degree of uncertainty or certainty in a sampling method.\n",
    "* A confidence interval can take any number of probabilities, with the most common being a 95% or 99% confidence level.\n",
    "\n",
    "* The Confidence Interval is based on Mean and Standard Deviation and is given as: **Confidence interval = X ± (z * s/√n)**\n",
    "* where z critical value is derived from the z score table based on the confidence level.\n",
    "  X is the sample mean.\n",
    "  s is sample standard deviation.\n",
    "  n is the sample size\n",
    "  \n",
    "![](https://uploads-cdn.omnicalculator.com/images/confidence_interval/confidence_interval_95.png)\n",
    "\n",
    "\n",
    "\n",
    "\n",
    "\n",
    "#### EXAMPLE:\n",
    "\n",
    "In the survey of Americans’ and Brits’ television watching habits, we can use the sample mean, sample standard deviation, and sample size in place of the population mean, population standard deviation, and population size.\n",
    "To calculate the 95% confidence interval, we can simply plug the values into the formula.\n",
    "\n",
    "**For the USA:**\n",
    "\n",
    "![](https://cdn.scribbr.com/wp-content/uploads/2020/08/calculating-the-confidence-interval-example.png)\n",
    "\n",
    "So for the USA, the lower and upper bounds of the 95% confidence interval are 34.02 and 35.98\n",
    "\n",
    "\n",
    "**For GB:**\n",
    "\n",
    "![](https://cdn.scribbr.com/wp-content/uploads/2020/08/calculating-the-confidence-interval-example-2-1.png)\n",
    "\n",
    "So for the GB, the lower and upper bounds of the 95% confidence interval are 33.04 and 36.96."
   ]
  },
  {
   "cell_type": "markdown",
   "id": "received-mayor",
   "metadata": {
    "papermill": {
     "duration": 0.028543,
     "end_time": "2021-04-26T07:42:47.550282",
     "exception": false,
     "start_time": "2021-04-26T07:42:47.521739",
     "status": "completed"
    },
    "tags": []
   },
   "source": [
    "-------------------"
   ]
  },
  {
   "cell_type": "markdown",
   "id": "divided-induction",
   "metadata": {
    "papermill": {
     "duration": 0.029183,
     "end_time": "2021-04-26T07:42:47.608454",
     "exception": false,
     "start_time": "2021-04-26T07:42:47.579271",
     "status": "completed"
    },
    "tags": []
   },
   "source": [
    "## **CHI-2 TEST**\n",
    "\n",
    "**A Chi-Square test is a test of statistical significance for categorical variables.**\n",
    "\n",
    "* Chi-square test in hypothesis testing is used to test the hypothesis about the distribution of observations/frequencies in different categories.\n",
    "\n",
    "**FORMULA**\n",
    "\n",
    "![](https://cdn.analyticsvidhya.com/wp-content/uploads/2019/05/34.png)\n",
    "\n",
    "**Assumptions of the Chi-Square Test:**\n",
    "\n",
    "Just like any other statistical test, the chi-square test comes with a few assumptions of its own:\n",
    "\n",
    "* The χ2 assumes that the data for the study is obtained through random selection, i.e. they are randomly picked from the population\n",
    "* The categories are mutually exclusive i.e. each subject fits in only one category. For e.g.- from our above example – the number of people who lunched in your restaurant on Monday can’t be filled in the Tuesday category\n",
    "* The data should be in the form of frequencies or counts of a particular category and not in percentages\n",
    "* The data should not consist of paired samples or groups or we can say the observations should be independent of each other\n",
    "* When more than 20% of the expected frequencies have a value of less than 5 then Chi-square cannot be used.  To tackle this problem: Either one should combine the categories only if it is relevant or obtain more data\n",
    "\n",
    "There are two types of chi-square tests. Both use the chi-square statistic and distribution for different purposes:\n",
    "\n",
    "* A chi-square goodness of fit test determines if sample data matches a population. For more details on this type, see: Goodness of Fit Test.\n",
    "\n",
    "* A chi-square test for independence compares two variables in a contingency table to see if they are related. In a more general sense, it tests to see whether distributions of categorical variables differ from each another.\n",
    "        \n",
    "        A very small chi square test statistic means that your observed data fits your expected data extremely well. In other words, there is a relationship.\n",
    "        \n",
    "        A very large chi square test statistic means that the data does not fit very well. In other words, there isn’t a relationship.\n",
    "        \n",
    "\n",
    "        \n"
   ]
  },
  {
   "cell_type": "markdown",
   "id": "concrete-anger",
   "metadata": {
    "papermill": {
     "duration": 0.028253,
     "end_time": "2021-04-26T07:42:47.666588",
     "exception": false,
     "start_time": "2021-04-26T07:42:47.638335",
     "status": "completed"
    },
    "tags": []
   },
   "source": [
    "### **PYTHON CODE**"
   ]
  },
  {
   "cell_type": "code",
   "execution_count": 7,
   "id": "pediatric-antigua",
   "metadata": {
    "execution": {
     "iopub.execute_input": "2021-04-26T07:42:47.725972Z",
     "iopub.status.busy": "2021-04-26T07:42:47.725169Z",
     "iopub.status.idle": "2021-04-26T07:42:49.836468Z",
     "shell.execute_reply": "2021-04-26T07:42:49.835896Z"
    },
    "papermill": {
     "duration": 2.143553,
     "end_time": "2021-04-26T07:42:49.836621",
     "exception": false,
     "start_time": "2021-04-26T07:42:47.693068",
     "status": "completed"
    },
    "tags": []
   },
   "outputs": [],
   "source": [
    "import scipy.stats as stats\n",
    "import seaborn as sns\n",
    "import pandas as pd\n",
    "import numpy as np\n",
    "dataset=sns.load_dataset('tips')"
   ]
  },
  {
   "cell_type": "code",
   "execution_count": 8,
   "id": "secondary-portuguese",
   "metadata": {
    "execution": {
     "iopub.execute_input": "2021-04-26T07:42:49.898655Z",
     "iopub.status.busy": "2021-04-26T07:42:49.898007Z",
     "iopub.status.idle": "2021-04-26T07:42:49.922013Z",
     "shell.execute_reply": "2021-04-26T07:42:49.922478Z"
    },
    "papermill": {
     "duration": 0.058582,
     "end_time": "2021-04-26T07:42:49.922654",
     "exception": false,
     "start_time": "2021-04-26T07:42:49.864072",
     "status": "completed"
    },
    "tags": []
   },
   "outputs": [
    {
     "data": {
      "text/html": [
       "<div>\n",
       "<style scoped>\n",
       "    .dataframe tbody tr th:only-of-type {\n",
       "        vertical-align: middle;\n",
       "    }\n",
       "\n",
       "    .dataframe tbody tr th {\n",
       "        vertical-align: top;\n",
       "    }\n",
       "\n",
       "    .dataframe thead th {\n",
       "        text-align: right;\n",
       "    }\n",
       "</style>\n",
       "<table border=\"1\" class=\"dataframe\">\n",
       "  <thead>\n",
       "    <tr style=\"text-align: right;\">\n",
       "      <th></th>\n",
       "      <th>total_bill</th>\n",
       "      <th>tip</th>\n",
       "      <th>sex</th>\n",
       "      <th>smoker</th>\n",
       "      <th>day</th>\n",
       "      <th>time</th>\n",
       "      <th>size</th>\n",
       "    </tr>\n",
       "  </thead>\n",
       "  <tbody>\n",
       "    <tr>\n",
       "      <th>0</th>\n",
       "      <td>16.99</td>\n",
       "      <td>1.01</td>\n",
       "      <td>Female</td>\n",
       "      <td>No</td>\n",
       "      <td>Sun</td>\n",
       "      <td>Dinner</td>\n",
       "      <td>2</td>\n",
       "    </tr>\n",
       "    <tr>\n",
       "      <th>1</th>\n",
       "      <td>10.34</td>\n",
       "      <td>1.66</td>\n",
       "      <td>Male</td>\n",
       "      <td>No</td>\n",
       "      <td>Sun</td>\n",
       "      <td>Dinner</td>\n",
       "      <td>3</td>\n",
       "    </tr>\n",
       "    <tr>\n",
       "      <th>2</th>\n",
       "      <td>21.01</td>\n",
       "      <td>3.50</td>\n",
       "      <td>Male</td>\n",
       "      <td>No</td>\n",
       "      <td>Sun</td>\n",
       "      <td>Dinner</td>\n",
       "      <td>3</td>\n",
       "    </tr>\n",
       "    <tr>\n",
       "      <th>3</th>\n",
       "      <td>23.68</td>\n",
       "      <td>3.31</td>\n",
       "      <td>Male</td>\n",
       "      <td>No</td>\n",
       "      <td>Sun</td>\n",
       "      <td>Dinner</td>\n",
       "      <td>2</td>\n",
       "    </tr>\n",
       "    <tr>\n",
       "      <th>4</th>\n",
       "      <td>24.59</td>\n",
       "      <td>3.61</td>\n",
       "      <td>Female</td>\n",
       "      <td>No</td>\n",
       "      <td>Sun</td>\n",
       "      <td>Dinner</td>\n",
       "      <td>4</td>\n",
       "    </tr>\n",
       "  </tbody>\n",
       "</table>\n",
       "</div>"
      ],
      "text/plain": [
       "   total_bill   tip     sex smoker  day    time  size\n",
       "0       16.99  1.01  Female     No  Sun  Dinner     2\n",
       "1       10.34  1.66    Male     No  Sun  Dinner     3\n",
       "2       21.01  3.50    Male     No  Sun  Dinner     3\n",
       "3       23.68  3.31    Male     No  Sun  Dinner     2\n",
       "4       24.59  3.61  Female     No  Sun  Dinner     4"
      ]
     },
     "execution_count": 8,
     "metadata": {},
     "output_type": "execute_result"
    }
   ],
   "source": [
    "dataset.head()"
   ]
  },
  {
   "cell_type": "code",
   "execution_count": 9,
   "id": "cutting-conference",
   "metadata": {
    "execution": {
     "iopub.execute_input": "2021-04-26T07:42:49.987173Z",
     "iopub.status.busy": "2021-04-26T07:42:49.985100Z",
     "iopub.status.idle": "2021-04-26T07:42:50.037875Z",
     "shell.execute_reply": "2021-04-26T07:42:50.038424Z"
    },
    "papermill": {
     "duration": 0.089154,
     "end_time": "2021-04-26T07:42:50.038613",
     "exception": false,
     "start_time": "2021-04-26T07:42:49.949459",
     "status": "completed"
    },
    "tags": []
   },
   "outputs": [
    {
     "name": "stdout",
     "output_type": "stream",
     "text": [
      "smoker  Yes  No\n",
      "sex            \n",
      "Male     60  97\n",
      "Female   33  54\n"
     ]
    }
   ],
   "source": [
    "\n",
    "dataset_table=pd.crosstab(dataset['sex'],dataset['smoker'])\n",
    "print(dataset_table)"
   ]
  },
  {
   "cell_type": "code",
   "execution_count": 10,
   "id": "wrapped-lambda",
   "metadata": {
    "execution": {
     "iopub.execute_input": "2021-04-26T07:42:50.099652Z",
     "iopub.status.busy": "2021-04-26T07:42:50.098974Z",
     "iopub.status.idle": "2021-04-26T07:42:50.104551Z",
     "shell.execute_reply": "2021-04-26T07:42:50.105116Z"
    },
    "papermill": {
     "duration": 0.037041,
     "end_time": "2021-04-26T07:42:50.105304",
     "exception": false,
     "start_time": "2021-04-26T07:42:50.068263",
     "status": "completed"
    },
    "tags": []
   },
   "outputs": [
    {
     "data": {
      "text/plain": [
       "array([[60, 97],\n",
       "       [33, 54]])"
      ]
     },
     "execution_count": 10,
     "metadata": {},
     "output_type": "execute_result"
    }
   ],
   "source": [
    "dataset_table.values"
   ]
  },
  {
   "cell_type": "code",
   "execution_count": 11,
   "id": "steady-process",
   "metadata": {
    "execution": {
     "iopub.execute_input": "2021-04-26T07:42:50.171451Z",
     "iopub.status.busy": "2021-04-26T07:42:50.170734Z",
     "iopub.status.idle": "2021-04-26T07:42:50.177073Z",
     "shell.execute_reply": "2021-04-26T07:42:50.176469Z"
    },
    "papermill": {
     "duration": 0.038991,
     "end_time": "2021-04-26T07:42:50.177229",
     "exception": false,
     "start_time": "2021-04-26T07:42:50.138238",
     "status": "completed"
    },
    "tags": []
   },
   "outputs": [
    {
     "name": "stdout",
     "output_type": "stream",
     "text": [
      "Observed Values :-\n",
      " [[60 97]\n",
      " [33 54]]\n"
     ]
    }
   ],
   "source": [
    "#Observed Values\n",
    "Observed_Values = dataset_table.values \n",
    "print(\"Observed Values :-\\n\",Observed_Values)"
   ]
  },
  {
   "cell_type": "code",
   "execution_count": 12,
   "id": "automated-strength",
   "metadata": {
    "execution": {
     "iopub.execute_input": "2021-04-26T07:42:50.247461Z",
     "iopub.status.busy": "2021-04-26T07:42:50.246771Z",
     "iopub.status.idle": "2021-04-26T07:42:50.250887Z",
     "shell.execute_reply": "2021-04-26T07:42:50.251416Z"
    },
    "papermill": {
     "duration": 0.044779,
     "end_time": "2021-04-26T07:42:50.251658",
     "exception": false,
     "start_time": "2021-04-26T07:42:50.206879",
     "status": "completed"
    },
    "tags": []
   },
   "outputs": [],
   "source": [
    "val=stats.chi2_contingency(dataset_table)"
   ]
  },
  {
   "cell_type": "code",
   "execution_count": 13,
   "id": "excessive-irish",
   "metadata": {
    "execution": {
     "iopub.execute_input": "2021-04-26T07:42:50.318600Z",
     "iopub.status.busy": "2021-04-26T07:42:50.317774Z",
     "iopub.status.idle": "2021-04-26T07:42:50.321195Z",
     "shell.execute_reply": "2021-04-26T07:42:50.321758Z"
    },
    "papermill": {
     "duration": 0.039606,
     "end_time": "2021-04-26T07:42:50.322019",
     "exception": false,
     "start_time": "2021-04-26T07:42:50.282413",
     "status": "completed"
    },
    "tags": []
   },
   "outputs": [],
   "source": [
    "Expected_Values=val[3]"
   ]
  },
  {
   "cell_type": "code",
   "execution_count": 14,
   "id": "indirect-miniature",
   "metadata": {
    "execution": {
     "iopub.execute_input": "2021-04-26T07:42:50.390522Z",
     "iopub.status.busy": "2021-04-26T07:42:50.389695Z",
     "iopub.status.idle": "2021-04-26T07:42:50.395995Z",
     "shell.execute_reply": "2021-04-26T07:42:50.394999Z"
    },
    "papermill": {
     "duration": 0.042672,
     "end_time": "2021-04-26T07:42:50.396154",
     "exception": false,
     "start_time": "2021-04-26T07:42:50.353482",
     "status": "completed"
    },
    "tags": []
   },
   "outputs": [
    {
     "name": "stdout",
     "output_type": "stream",
     "text": [
      "Degree of Freedom:- 1\n"
     ]
    }
   ],
   "source": [
    "no_of_rows=len(dataset_table.iloc[0:2,0])\n",
    "no_of_columns=len(dataset_table.iloc[0,0:2])\n",
    "ddof=(no_of_rows-1)*(no_of_columns-1)\n",
    "print(\"Degree of Freedom:-\",ddof)\n",
    "alpha = 0.05"
   ]
  },
  {
   "cell_type": "code",
   "execution_count": 15,
   "id": "spare-level",
   "metadata": {
    "execution": {
     "iopub.execute_input": "2021-04-26T07:42:50.468292Z",
     "iopub.status.busy": "2021-04-26T07:42:50.467539Z",
     "iopub.status.idle": "2021-04-26T07:42:50.470582Z",
     "shell.execute_reply": "2021-04-26T07:42:50.471389Z"
    },
    "papermill": {
     "duration": 0.043048,
     "end_time": "2021-04-26T07:42:50.471598",
     "exception": false,
     "start_time": "2021-04-26T07:42:50.428550",
     "status": "completed"
    },
    "tags": []
   },
   "outputs": [],
   "source": [
    "from scipy.stats import chi2\n",
    "chi_square=sum([(o-e)**2./e for o,e in zip(Observed_Values,Expected_Values)])\n",
    "chi_square_statistic=chi_square[0]+chi_square[1]"
   ]
  },
  {
   "cell_type": "code",
   "execution_count": 16,
   "id": "southwest-academy",
   "metadata": {
    "execution": {
     "iopub.execute_input": "2021-04-26T07:42:50.537833Z",
     "iopub.status.busy": "2021-04-26T07:42:50.536605Z",
     "iopub.status.idle": "2021-04-26T07:42:50.543825Z",
     "shell.execute_reply": "2021-04-26T07:42:50.543062Z"
    },
    "papermill": {
     "duration": 0.042665,
     "end_time": "2021-04-26T07:42:50.544006",
     "exception": false,
     "start_time": "2021-04-26T07:42:50.501341",
     "status": "completed"
    },
    "tags": []
   },
   "outputs": [
    {
     "name": "stdout",
     "output_type": "stream",
     "text": [
      "chi-square statistic:- 0.001934818536627623\n"
     ]
    }
   ],
   "source": [
    "print(\"chi-square statistic:-\",chi_square_statistic)"
   ]
  },
  {
   "cell_type": "code",
   "execution_count": 17,
   "id": "terminal-accessory",
   "metadata": {
    "execution": {
     "iopub.execute_input": "2021-04-26T07:42:50.606840Z",
     "iopub.status.busy": "2021-04-26T07:42:50.606201Z",
     "iopub.status.idle": "2021-04-26T07:42:50.612842Z",
     "shell.execute_reply": "2021-04-26T07:42:50.613920Z"
    },
    "papermill": {
     "duration": 0.040474,
     "end_time": "2021-04-26T07:42:50.614168",
     "exception": false,
     "start_time": "2021-04-26T07:42:50.573694",
     "status": "completed"
    },
    "tags": []
   },
   "outputs": [
    {
     "name": "stdout",
     "output_type": "stream",
     "text": [
      "critical_value: 3.841458820694124\n"
     ]
    }
   ],
   "source": [
    "\n",
    "critical_value=chi2.ppf(q=1-alpha,df=ddof)\n",
    "print('critical_value:',critical_value)"
   ]
  },
  {
   "cell_type": "code",
   "execution_count": 18,
   "id": "convinced-spell",
   "metadata": {
    "execution": {
     "iopub.execute_input": "2021-04-26T07:42:50.683188Z",
     "iopub.status.busy": "2021-04-26T07:42:50.682184Z",
     "iopub.status.idle": "2021-04-26T07:42:50.688169Z",
     "shell.execute_reply": "2021-04-26T07:42:50.687619Z"
    },
    "papermill": {
     "duration": 0.042836,
     "end_time": "2021-04-26T07:42:50.688329",
     "exception": false,
     "start_time": "2021-04-26T07:42:50.645493",
     "status": "completed"
    },
    "tags": []
   },
   "outputs": [
    {
     "name": "stdout",
     "output_type": "stream",
     "text": [
      "p-value: 0.964915107315732\n",
      "Significance level:  0.05\n",
      "Degree of Freedom:  1\n",
      "p-value: 0.964915107315732\n"
     ]
    }
   ],
   "source": [
    "#p-value\n",
    "p_value=1-chi2.cdf(x=chi_square_statistic,df=ddof)\n",
    "print('p-value:',p_value)\n",
    "print('Significance level: ',alpha)\n",
    "print('Degree of Freedom: ',ddof)\n",
    "print('p-value:',p_value)"
   ]
  },
  {
   "cell_type": "code",
   "execution_count": 19,
   "id": "ordinary-accordance",
   "metadata": {
    "execution": {
     "iopub.execute_input": "2021-04-26T07:42:50.756861Z",
     "iopub.status.busy": "2021-04-26T07:42:50.755693Z",
     "iopub.status.idle": "2021-04-26T07:42:50.760396Z",
     "shell.execute_reply": "2021-04-26T07:42:50.759629Z"
    },
    "papermill": {
     "duration": 0.041183,
     "end_time": "2021-04-26T07:42:50.760595",
     "exception": false,
     "start_time": "2021-04-26T07:42:50.719412",
     "status": "completed"
    },
    "tags": []
   },
   "outputs": [
    {
     "name": "stdout",
     "output_type": "stream",
     "text": [
      "Retain H0,There is no relationship between 2 categorical variables\n",
      "Retain H0,There is no relationship between 2 categorical variables\n"
     ]
    }
   ],
   "source": [
    "if chi_square_statistic>=critical_value:\n",
    "    print(\"Reject H0,There is a relationship between 2 categorical variables\")\n",
    "else:\n",
    "    print(\"Retain H0,There is no relationship between 2 categorical variables\")\n",
    "    \n",
    "if p_value<=alpha:\n",
    "    print(\"Reject H0,There is a relationship between 2 categorical variables\")\n",
    "else:\n",
    "    print(\"Retain H0,There is no relationship between 2 categorical variables\")"
   ]
  },
  {
   "cell_type": "markdown",
   "id": "julian-regulation",
   "metadata": {
    "papermill": {
     "duration": 0.03386,
     "end_time": "2021-04-26T07:42:50.828593",
     "exception": false,
     "start_time": "2021-04-26T07:42:50.794733",
     "status": "completed"
    },
    "tags": []
   },
   "source": [
    "--------"
   ]
  },
  {
   "cell_type": "markdown",
   "id": "australian-anime",
   "metadata": {
    "papermill": {
     "duration": 0.031289,
     "end_time": "2021-04-26T07:42:50.891543",
     "exception": false,
     "start_time": "2021-04-26T07:42:50.860254",
     "status": "completed"
    },
    "tags": []
   },
   "source": [
    "## **ANOVA TEST (Analysis of Variance)**\n",
    "\n",
    "* t is a parametric statistical technique that is used to compare datasets.   \n",
    "* R.A. Fisher is the person who invented this technique. It is also referred to as Fisher’s NOVA.\n",
    "\n",
    "**Assumptions to use ANOVA**  \n",
    "\n",
    "* The independence of a case assumption means that the sample should be selected randomly. There should be no pattern in the selection of the sample.\n",
    "\n",
    "* Normality: Distribution of each group should be normal. Kolmogorov-Smirnov or the Shapiro-Wilk test may be used to confirm the normality of the group.\n",
    "\n",
    "* Homogeneity means between the group; the variance must be the same. To test the correlation between groups, Levene’s test is used.\n",
    "\n",
    "**TYPES OF ANOVA**\n",
    "\n",
    "### ONE WAY ANOVA TEST:\n",
    "\n",
    "* One-way ANOVA is generally the most used method of performing the ANOVA test. It is also referred to as one-factor ANOVA, between-subjects ANOVA, and an independent factor ANOVA. It is used to compare the means of two independent groups using the F-distribution. \n",
    "\n",
    "* Two carry out the one-way ANOVA test, you should necessarily have only one independent variable with at least two levels. One-way ANOVA does not differ much from t-test. \n",
    "\n",
    "#### EXAMPLE:\n",
    "\n",
    "* Suppose a teacher wants to know how good he has been in teaching with the students. So, he can split the students of the class into different groups and assign different projects related to the topics taught to them. \n",
    "* He can use one-way ANOVA to compare the average score of each group. He can get a rough understanding of topics to teach again. However, he won’t be able to identify the student who could not understand the topic. \n",
    "\n",
    "### TWO WAY ANOVA TEST:\n",
    "\n",
    "Two-way ANOVA is carried out when you have two independent variables. It is an extension of one-way ANOVA. You can use the two-way ANOVA test when your experiment has a quantitative outcome and there are two independent variables. \n",
    "\n",
    "**Two-way ANOVA is performed in two ways:**\n",
    "\n",
    "* **Two-way ANOVA with replication**: It is performed when there are two groups and the members of these groups are doing more than one thing. Our example in the beginning can be a good example of two-way ANOVA with replication. \n",
    "\n",
    "* **Two-way ANOVA without replication**: This is used when you have only one group but you are double-testing that group. For example, a patient is being observed before and after medication\n",
    "\n",
    "**Assumptions for Two-way ANOVA**\n",
    "\n",
    "* The population must be close to a normal distribution.\n",
    "* Samples must be independent.\n",
    "* Population variances must be equal.\n",
    "* Groups must have equal sample sizes.\n"
   ]
  },
  {
   "cell_type": "markdown",
   "id": "toxic-lease",
   "metadata": {
    "papermill": {
     "duration": 0.032705,
     "end_time": "2021-04-26T07:42:50.957271",
     "exception": false,
     "start_time": "2021-04-26T07:42:50.924566",
     "status": "completed"
    },
    "tags": []
   },
   "source": [
    "------------------"
   ]
  },
  {
   "cell_type": "markdown",
   "id": "prescription-station",
   "metadata": {
    "papermill": {
     "duration": 0.034901,
     "end_time": "2021-04-26T07:42:51.024211",
     "exception": false,
     "start_time": "2021-04-26T07:42:50.989310",
     "status": "completed"
    },
    "tags": []
   },
   "source": [
    "## **CONCLUSION:**\n",
    "\n",
    "* This is the second part of my statistics for data science topic. In this i have shared some very important concepts of statistics.\n",
    "\n",
    "* For part 1 you can click on the link present at the top of this notebook.\n",
    "\n",
    "* Thank You!!!. If you like the content, please share with them who are new to Data Science field.\n",
    "\n",
    "**AND GIVE AN UPVOTE**"
   ]
  }
 ],
 "metadata": {
  "kernelspec": {
   "display_name": "Python 3",
   "language": "python",
   "name": "python3"
  },
  "language_info": {
   "codemirror_mode": {
    "name": "ipython",
    "version": 3
   },
   "file_extension": ".py",
   "mimetype": "text/x-python",
   "name": "python",
   "nbconvert_exporter": "python",
   "pygments_lexer": "ipython3",
   "version": "3.7.10"
  },
  "papermill": {
   "default_parameters": {},
   "duration": 17.086005,
   "end_time": "2021-04-26T07:42:52.333693",
   "environment_variables": {},
   "exception": null,
   "input_path": "__notebook__.ipynb",
   "output_path": "__notebook__.ipynb",
   "parameters": {},
   "start_time": "2021-04-26T07:42:35.247688",
   "version": "2.3.3"
  }
 },
 "nbformat": 4,
 "nbformat_minor": 5
}
